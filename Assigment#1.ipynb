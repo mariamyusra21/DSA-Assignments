{
 "cells": [
  {
   "cell_type": "raw",
   "metadata": {},
   "source": [
    "Q1: Write a program that takes two numbers as the input and print the result of Addition, Subtaction, Multiplication,\n",
    "    Division of the two numbers..."
   ]
  },
  {
   "cell_type": "code",
   "execution_count": 8,
   "metadata": {},
   "outputs": [
    {
     "name": "stdout",
     "output_type": "stream",
     "text": [
      "Enter the First number:12\n",
      "Enter the Second number:6\n",
      "The answer of Addition is 18\n",
      "The anwser of Subtaction is 6\n",
      "The anwser of Multiplication is 72\n",
      "The Floating-Point anwser of Division is 2.0\n",
      "The Integer anwser of Division is 2\n"
     ]
    }
   ],
   "source": [
    "a = int(input('Enter the First number:'))\n",
    "b = int(input('Enter the Second number:'))\n",
    "c = a + b\n",
    "print('The answer of Addition is', end = ' ')\n",
    "print(c)\n",
    "c = a - b\n",
    "print('The anwser of Subtaction is', end = ' ')\n",
    "print(c)\n",
    "c = a * b\n",
    "print('The anwser of Multiplication is', end = ' ')\n",
    "print(c)\n",
    "c = a / b\n",
    "print('The Floating-Point anwser of Division is', end = ' ')\n",
    "print(c)\n",
    "c = a // b\n",
    "print('The Integer anwser of Division is', end = ' ') \n",
    "print(c)\n"
   ]
  },
  {
   "cell_type": "raw",
   "metadata": {},
   "source": [
    "Q2: Write a Python program that takes two numbers as the input such as X and Y and print the result of X^Y(X to the power of Y) "
   ]
  },
  {
   "cell_type": "code",
   "execution_count": 10,
   "metadata": {},
   "outputs": [
    {
     "name": "stdout",
     "output_type": "stream",
     "text": [
      "Enter the First Number:4\n",
      "Enter the Second Number:3\n",
      "The Power of the Number is: 64\n"
     ]
    }
   ],
   "source": [
    "x = int(input('Enter the First Number:'))\n",
    "y = int(input('Enter the Second Number:'))\n",
    "answer = x**y\n",
    "print('The Power of the Number is:',end = ' ')\n",
    "print(answer)"
   ]
  },
  {
   "cell_type": "code",
   "execution_count": null,
   "metadata": {},
   "outputs": [],
   "source": []
  }
 ],
 "metadata": {
  "kernelspec": {
   "display_name": "Python 3",
   "language": "python",
   "name": "python3"
  },
  "language_info": {
   "codemirror_mode": {
    "name": "ipython",
    "version": 3
   },
   "file_extension": ".py",
   "mimetype": "text/x-python",
   "name": "python",
   "nbconvert_exporter": "python",
   "pygments_lexer": "ipython3",
   "version": "3.8.3"
  }
 },
 "nbformat": 4,
 "nbformat_minor": 4
}
